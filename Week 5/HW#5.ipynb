{
 "cells": [
  {
   "cell_type": "code",
   "execution_count": 2,
   "id": "b9444dd8-ce13-4abb-845e-cb95e521a2ca",
   "metadata": {},
   "outputs": [],
   "source": [
    "from pyspark.sql import SparkSession"
   ]
  },
  {
   "cell_type": "code",
   "execution_count": 40,
   "id": "da64ecd3-6415-425d-bd6d-77a98e48cad6",
   "metadata": {},
   "outputs": [],
   "source": [
    "from pyspark.sql import functions as F"
   ]
  },
  {
   "cell_type": "code",
   "execution_count": 3,
   "id": "3965b969-efc0-4484-8159-51c22be23967",
   "metadata": {},
   "outputs": [],
   "source": [
    "spark = SparkSession.builder.getOrCreate()"
   ]
  },
  {
   "cell_type": "code",
   "execution_count": 4,
   "id": "f9d31657-9f3b-4da3-b628-3d7cb9fc192d",
   "metadata": {},
   "outputs": [
    {
     "data": {
      "text/html": [
       "\n",
       "            <div>\n",
       "                <p><b>SparkSession - hive</b></p>\n",
       "                \n",
       "        <div>\n",
       "            <p><b>SparkContext</b></p>\n",
       "\n",
       "            <p><a href=\"http://cluster-27a9-m.us-central1-a.c.de-zoomcamp-376202.internal:40271\">Spark UI</a></p>\n",
       "\n",
       "            <dl>\n",
       "              <dt>Version</dt>\n",
       "                <dd><code>v3.3.0</code></dd>\n",
       "              <dt>Master</dt>\n",
       "                <dd><code>yarn</code></dd>\n",
       "              <dt>AppName</dt>\n",
       "                <dd><code>PySparkShell</code></dd>\n",
       "            </dl>\n",
       "        </div>\n",
       "        \n",
       "            </div>\n",
       "        "
      ],
      "text/plain": [
       "<pyspark.sql.session.SparkSession at 0x7fcbb35e76d0>"
      ]
     },
     "execution_count": 4,
     "metadata": {},
     "output_type": "execute_result"
    }
   ],
   "source": [
    "spark"
   ]
  },
  {
   "cell_type": "code",
   "execution_count": 14,
   "id": "d6f1e2db-1f88-42fa-a21e-18d081e2808b",
   "metadata": {},
   "outputs": [],
   "source": [
    "fhvhv = 'gs://dtc_data_lake_de-zoomcamp-376202/fhvhv_tripdata_2021-06.csv.gz'"
   ]
  },
  {
   "cell_type": "code",
   "execution_count": 52,
   "id": "bcd2dd89-6a88-408a-a114-50c505de0c60",
   "metadata": {},
   "outputs": [
    {
     "name": "stderr",
     "output_type": "stream",
     "text": [
      "                                                                                \r"
     ]
    }
   ],
   "source": [
    "fhvhv_df = spark.read.csv(fhvhv,inferSchema=True, header=True)"
   ]
  },
  {
   "cell_type": "code",
   "execution_count": 24,
   "id": "745f6275-f3ad-41a6-87cf-77853731d1bc",
   "metadata": {},
   "outputs": [],
   "source": [
    "output_path = 'gs://dtc_data_lake_de-zoomcamp-376202/fhv_pq/'"
   ]
  },
  {
   "cell_type": "code",
   "execution_count": 27,
   "id": "4d5ca2dc-9552-4295-a744-3984bb1e7d69",
   "metadata": {},
   "outputs": [
    {
     "name": "stderr",
     "output_type": "stream",
     "text": [
      "                                                                                \r"
     ]
    }
   ],
   "source": [
    "fhvhv_df \\\n",
    "        .repartition(12) \\\n",
    "        .write.parquet(output_path)"
   ]
  },
  {
   "cell_type": "code",
   "execution_count": 53,
   "id": "cb72b2ba-3434-43a8-aad6-42a6e84e7161",
   "metadata": {},
   "outputs": [
    {
     "name": "stdout",
     "output_type": "stream",
     "text": [
      "+--------------------+-------------------+-------------------+------------+------------+-------+----------------------+\n",
      "|dispatching_base_num|    pickup_datetime|   dropoff_datetime|PULocationID|DOLocationID|SR_Flag|Affiliated_base_number|\n",
      "+--------------------+-------------------+-------------------+------------+------------+-------+----------------------+\n",
      "|              B02764|2021-06-01 00:02:41|2021-06-01 00:07:46|         174|          18|      N|                B02764|\n",
      "|              B02764|2021-06-01 00:16:16|2021-06-01 00:21:14|          32|         254|      N|                B02764|\n",
      "|              B02764|2021-06-01 00:27:01|2021-06-01 00:42:11|         240|         127|      N|                B02764|\n",
      "|              B02764|2021-06-01 00:46:08|2021-06-01 00:53:45|         127|         235|      N|                B02764|\n",
      "|              B02510|2021-06-01 00:45:42|2021-06-01 01:03:33|         144|         146|      N|                  null|\n",
      "|              B02510|2021-06-01 00:18:15|2021-06-01 00:25:47|          49|          17|      N|                  null|\n",
      "|              B02510|2021-06-01 00:33:06|2021-06-01 00:42:46|          49|         225|      N|                  null|\n",
      "|              B02510|2021-06-01 00:46:27|2021-06-01 00:56:50|         225|         177|      N|                  null|\n",
      "|              B02764|2021-06-01 00:48:06|2021-06-01 01:04:10|         209|          45|      N|                B02764|\n",
      "|              B02875|2021-06-01 00:18:54|2021-06-01 00:26:14|          80|         256|      N|                B02875|\n",
      "|              B02875|2021-06-01 00:31:02|2021-06-01 00:36:39|         217|          17|      N|                B02875|\n",
      "|              B02875|2021-06-01 00:41:53|2021-06-01 01:07:32|          17|         265|      N|                B02875|\n",
      "|              B02875|2021-06-01 00:29:52|2021-06-01 00:54:41|         210|          76|      N|                B02875|\n",
      "|              B02510|2021-06-01 00:15:57|2021-06-01 00:39:36|         226|         213|      N|                  null|\n",
      "|              B02510|2021-06-01 00:11:59|2021-06-01 00:23:32|         191|           9|      N|                  null|\n",
      "|              B02510|2021-06-01 00:30:35|2021-06-01 00:45:35|          16|         250|      N|                  null|\n",
      "|              B02510|2021-06-01 00:49:01|2021-06-01 01:03:50|         182|         259|      N|                  null|\n",
      "|              B02510|2021-06-01 00:07:36|2021-06-01 00:21:13|         188|          72|      N|                  null|\n",
      "|              B02510|2021-06-01 00:25:48|2021-06-01 00:40:43|          39|          72|      N|                  null|\n",
      "|              B02510|2021-06-01 00:46:11|2021-06-01 00:53:39|          72|          35|      N|                  null|\n",
      "+--------------------+-------------------+-------------------+------------+------------+-------+----------------------+\n",
      "only showing top 20 rows\n",
      "\n"
     ]
    }
   ],
   "source": [
    "fhvhv_df.show()"
   ]
  },
  {
   "cell_type": "code",
   "execution_count": 54,
   "id": "0b54a62a-aab1-4795-8a2d-1d1528ac1e89",
   "metadata": {},
   "outputs": [
    {
     "name": "stdout",
     "output_type": "stream",
     "text": [
      "root\n",
      " |-- dispatching_base_num: string (nullable = true)\n",
      " |-- pickup_datetime: timestamp (nullable = true)\n",
      " |-- dropoff_datetime: timestamp (nullable = true)\n",
      " |-- PULocationID: integer (nullable = true)\n",
      " |-- DOLocationID: integer (nullable = true)\n",
      " |-- SR_Flag: string (nullable = true)\n",
      " |-- Affiliated_base_number: string (nullable = true)\n",
      "\n"
     ]
    }
   ],
   "source": [
    "fhvhv_df.printSchema()"
   ]
  },
  {
   "cell_type": "code",
   "execution_count": 20,
   "id": "85b08fd0-e6cf-4793-bbe4-9d261b2fb684",
   "metadata": {},
   "outputs": [],
   "source": [
    "lookup = 'gs://dtc_data_lake_de-zoomcamp-376202/taxi+_zone_lookup.csv'"
   ]
  },
  {
   "cell_type": "code",
   "execution_count": 21,
   "id": "4f35300a-79ec-4ce1-9409-75fb01239822",
   "metadata": {},
   "outputs": [],
   "source": [
    "lookup_df = spark.read.csv(lookup,inferSchema=True, header=True)"
   ]
  },
  {
   "cell_type": "code",
   "execution_count": 22,
   "id": "f627a725-54f3-4b22-864d-c44d3fe2a3ce",
   "metadata": {},
   "outputs": [
    {
     "name": "stdout",
     "output_type": "stream",
     "text": [
      "root\n",
      " |-- LocationID: integer (nullable = true)\n",
      " |-- Borough: string (nullable = true)\n",
      " |-- Zone: string (nullable = true)\n",
      " |-- service_zone: string (nullable = true)\n",
      "\n"
     ]
    }
   ],
   "source": [
    "lookup_df.printSchema()"
   ]
  },
  {
   "cell_type": "code",
   "execution_count": 64,
   "id": "0559a57e-7043-47cf-8058-6ba28de74fed",
   "metadata": {},
   "outputs": [
    {
     "name": "stdout",
     "output_type": "stream",
     "text": [
      "+----------+-------------+--------------------+------------+\n",
      "|LocationID|      Borough|                Zone|service_zone|\n",
      "+----------+-------------+--------------------+------------+\n",
      "|         1|          EWR|      Newark Airport|         EWR|\n",
      "|         2|       Queens|         Jamaica Bay|   Boro Zone|\n",
      "|         3|        Bronx|Allerton/Pelham G...|   Boro Zone|\n",
      "|         4|    Manhattan|       Alphabet City| Yellow Zone|\n",
      "|         5|Staten Island|       Arden Heights|   Boro Zone|\n",
      "|         6|Staten Island|Arrochar/Fort Wad...|   Boro Zone|\n",
      "|         7|       Queens|             Astoria|   Boro Zone|\n",
      "|         8|       Queens|        Astoria Park|   Boro Zone|\n",
      "|         9|       Queens|          Auburndale|   Boro Zone|\n",
      "|        10|       Queens|        Baisley Park|   Boro Zone|\n",
      "+----------+-------------+--------------------+------------+\n",
      "only showing top 10 rows\n",
      "\n"
     ]
    }
   ],
   "source": [
    "lookup_df.show(10)"
   ]
  },
  {
   "cell_type": "code",
   "execution_count": 55,
   "id": "75bf2cd3-29c9-49a8-8633-1afda2692c4d",
   "metadata": {},
   "outputs": [],
   "source": [
    "fhvhv_df.createOrReplaceTempView('fhvhv_data')"
   ]
  },
  {
   "cell_type": "code",
   "execution_count": 56,
   "id": "4a5a73ca-11ff-49dd-aba2-bf9c24807e87",
   "metadata": {},
   "outputs": [
    {
     "name": "stderr",
     "output_type": "stream",
     "text": [
      "[Stage 37:>                                                         (0 + 1) / 1]\r"
     ]
    },
    {
     "name": "stdout",
     "output_type": "stream",
     "text": [
      "+-------------------+--------+\n",
      "|               date|count(1)|\n",
      "+-------------------+--------+\n",
      "|2021-06-15 00:00:00|  452470|\n",
      "+-------------------+--------+\n",
      "\n"
     ]
    },
    {
     "name": "stderr",
     "output_type": "stream",
     "text": [
      "                                                                                \r"
     ]
    }
   ],
   "source": [
    "spark.sql('''\n",
    "select\n",
    "      date_trunc('day',pickup_datetime) as date\n",
    "      ,count(*)\n",
    "from fhvhv_data\n",
    "where date_trunc('day',pickup_datetime) = '2021-06-15'\n",
    "group by 1\n",
    "''').show()\n"
   ]
  },
  {
   "cell_type": "code",
   "execution_count": 57,
   "id": "ef342b14-4091-4543-a79d-d9596b160587",
   "metadata": {},
   "outputs": [],
   "source": [
    "fhvhv_df = fhvhv_df \\\n",
    "                    .withColumn(\n",
    "                                'diff_in_',(F.unix_timestamp('dropoff_datetime') - F.unix_timestamp('pickup_datetime')) / 3600 \\\n",
    "                    )"
   ]
  },
  {
   "cell_type": "code",
   "execution_count": 58,
   "id": "dfee8a5d-ec06-4495-b42a-d4c76942d8fe",
   "metadata": {},
   "outputs": [
    {
     "data": {
      "text/plain": [
       "Row(dispatching_base_num='B02764', pickup_datetime=datetime.datetime(2021, 6, 1, 0, 2, 41), dropoff_datetime=datetime.datetime(2021, 6, 1, 0, 7, 46), PULocationID=174, DOLocationID=18, SR_Flag='N', Affiliated_base_number='B02764', diff_in_=0.08472222222222223)"
      ]
     },
     "execution_count": 58,
     "metadata": {},
     "output_type": "execute_result"
    }
   ],
   "source": [
    "fhvhv_df.head()"
   ]
  },
  {
   "cell_type": "code",
   "execution_count": 59,
   "id": "1cac8755-cb6d-4e29-b6ad-ef456e2a04e4",
   "metadata": {},
   "outputs": [],
   "source": [
    "fhvhv_df.createOrReplaceTempView('fhvhv_data')"
   ]
  },
  {
   "cell_type": "code",
   "execution_count": 60,
   "id": "5bb2eb1a-2833-43c9-af1f-5daf1e73ac38",
   "metadata": {},
   "outputs": [
    {
     "name": "stdout",
     "output_type": "stream",
     "text": [
      "+--------------------+-------------------+-------------------+------------+------------+-------+----------------------+-------------------+\n",
      "|dispatching_base_num|    pickup_datetime|   dropoff_datetime|PULocationID|DOLocationID|SR_Flag|Affiliated_base_number|           diff_in_|\n",
      "+--------------------+-------------------+-------------------+------------+------------+-------+----------------------+-------------------+\n",
      "|              B02764|2021-06-01 00:02:41|2021-06-01 00:07:46|         174|          18|      N|                B02764|0.08472222222222223|\n",
      "|              B02764|2021-06-01 00:16:16|2021-06-01 00:21:14|          32|         254|      N|                B02764|0.08277777777777778|\n",
      "|              B02764|2021-06-01 00:27:01|2021-06-01 00:42:11|         240|         127|      N|                B02764|0.25277777777777777|\n",
      "|              B02764|2021-06-01 00:46:08|2021-06-01 00:53:45|         127|         235|      N|                B02764|0.12694444444444444|\n",
      "|              B02510|2021-06-01 00:45:42|2021-06-01 01:03:33|         144|         146|      N|                  null|             0.2975|\n",
      "|              B02510|2021-06-01 00:18:15|2021-06-01 00:25:47|          49|          17|      N|                  null|0.12555555555555556|\n",
      "|              B02510|2021-06-01 00:33:06|2021-06-01 00:42:46|          49|         225|      N|                  null|0.16111111111111112|\n",
      "|              B02510|2021-06-01 00:46:27|2021-06-01 00:56:50|         225|         177|      N|                  null|0.17305555555555555|\n",
      "|              B02764|2021-06-01 00:48:06|2021-06-01 01:04:10|         209|          45|      N|                B02764| 0.2677777777777778|\n",
      "|              B02875|2021-06-01 00:18:54|2021-06-01 00:26:14|          80|         256|      N|                B02875|0.12222222222222222|\n",
      "+--------------------+-------------------+-------------------+------------+------------+-------+----------------------+-------------------+\n",
      "\n"
     ]
    }
   ],
   "source": [
    "spark.sql('''\n",
    "select\n",
    "      *\n",
    "from fhvhv_data\n",
    "limit 10\n",
    "''').show()\n"
   ]
  },
  {
   "cell_type": "code",
   "execution_count": 62,
   "id": "251f2d0e-7924-4bdb-9eec-165152e38aab",
   "metadata": {},
   "outputs": [
    {
     "name": "stderr",
     "output_type": "stream",
     "text": [
      "[Stage 44:>                                                         (0 + 1) / 1]\r"
     ]
    },
    {
     "name": "stdout",
     "output_type": "stream",
     "text": [
      "+----------------+\n",
      "|        max_hour|\n",
      "+----------------+\n",
      "|66.8788888888889|\n",
      "+----------------+\n",
      "\n"
     ]
    },
    {
     "name": "stderr",
     "output_type": "stream",
     "text": [
      "                                                                                \r"
     ]
    }
   ],
   "source": [
    "spark.sql('''\n",
    "select\n",
    "      max(diff_in_) as max_hour\n",
    "from fhvhv_data\n",
    "''').show()\n"
   ]
  },
  {
   "cell_type": "code",
   "execution_count": 66,
   "id": "82ac2d1b-7ab3-49b9-a2cc-42a36e0b5e38",
   "metadata": {},
   "outputs": [
    {
     "name": "stdout",
     "output_type": "stream",
     "text": [
      "root\n",
      " |-- dispatching_base_num: string (nullable = true)\n",
      " |-- pickup_datetime: timestamp (nullable = true)\n",
      " |-- dropoff_datetime: timestamp (nullable = true)\n",
      " |-- PULocationID: integer (nullable = true)\n",
      " |-- DOLocationID: integer (nullable = true)\n",
      " |-- SR_Flag: string (nullable = true)\n",
      " |-- Affiliated_base_number: string (nullable = true)\n",
      " |-- diff_in_: double (nullable = true)\n",
      "\n"
     ]
    }
   ],
   "source": [
    "fhvhv_df.printSchema()"
   ]
  },
  {
   "cell_type": "code",
   "execution_count": 69,
   "id": "ee663a22-701d-420b-903c-413462d1170b",
   "metadata": {},
   "outputs": [
    {
     "name": "stdout",
     "output_type": "stream",
     "text": [
      "root\n",
      " |-- LocationID: integer (nullable = true)\n",
      " |-- Borough: string (nullable = true)\n",
      " |-- Zone: string (nullable = true)\n",
      " |-- service_zone: string (nullable = true)\n",
      "\n"
     ]
    }
   ],
   "source": [
    "lookup_df.printSchema()"
   ]
  },
  {
   "cell_type": "code",
   "execution_count": 71,
   "id": "dc91df97-dc27-419f-978e-2386414dedfc",
   "metadata": {},
   "outputs": [],
   "source": [
    "final_df = fhvhv_df.join(lookup_df, fhvhv_df.PULocationID == lookup_df.LocationID)"
   ]
  },
  {
   "cell_type": "code",
   "execution_count": 72,
   "id": "d579b446-07db-448a-96ab-231ff7f12454",
   "metadata": {},
   "outputs": [
    {
     "name": "stdout",
     "output_type": "stream",
     "text": [
      "+--------------------+-------------------+-------------------+------------+------------+-------+----------------------+-------------------+----------+---------+-------------------+------------+\n",
      "|dispatching_base_num|    pickup_datetime|   dropoff_datetime|PULocationID|DOLocationID|SR_Flag|Affiliated_base_number|           diff_in_|LocationID|  Borough|               Zone|service_zone|\n",
      "+--------------------+-------------------+-------------------+------------+------------+-------+----------------------+-------------------+----------+---------+-------------------+------------+\n",
      "|              B02764|2021-06-01 00:02:41|2021-06-01 00:07:46|         174|          18|      N|                B02764|0.08472222222222223|       174|    Bronx|            Norwood|   Boro Zone|\n",
      "|              B02764|2021-06-01 00:16:16|2021-06-01 00:21:14|          32|         254|      N|                B02764|0.08277777777777778|        32|    Bronx|          Bronxdale|   Boro Zone|\n",
      "|              B02764|2021-06-01 00:27:01|2021-06-01 00:42:11|         240|         127|      N|                B02764|0.25277777777777777|       240|    Bronx| Van Cortlandt Park|   Boro Zone|\n",
      "|              B02764|2021-06-01 00:46:08|2021-06-01 00:53:45|         127|         235|      N|                B02764|0.12694444444444444|       127|Manhattan|             Inwood|   Boro Zone|\n",
      "|              B02510|2021-06-01 00:45:42|2021-06-01 01:03:33|         144|         146|      N|                  null|             0.2975|       144|Manhattan|Little Italy/NoLiTa| Yellow Zone|\n",
      "|              B02510|2021-06-01 00:18:15|2021-06-01 00:25:47|          49|          17|      N|                  null|0.12555555555555556|        49| Brooklyn|       Clinton Hill|   Boro Zone|\n",
      "|              B02510|2021-06-01 00:33:06|2021-06-01 00:42:46|          49|         225|      N|                  null|0.16111111111111112|        49| Brooklyn|       Clinton Hill|   Boro Zone|\n",
      "|              B02510|2021-06-01 00:46:27|2021-06-01 00:56:50|         225|         177|      N|                  null|0.17305555555555555|       225| Brooklyn| Stuyvesant Heights|   Boro Zone|\n",
      "|              B02764|2021-06-01 00:48:06|2021-06-01 01:04:10|         209|          45|      N|                B02764| 0.2677777777777778|       209|Manhattan|            Seaport| Yellow Zone|\n",
      "|              B02875|2021-06-01 00:18:54|2021-06-01 00:26:14|          80|         256|      N|                B02875|0.12222222222222222|        80| Brooklyn|  East Williamsburg|   Boro Zone|\n",
      "+--------------------+-------------------+-------------------+------------+------------+-------+----------------------+-------------------+----------+---------+-------------------+------------+\n",
      "only showing top 10 rows\n",
      "\n"
     ]
    }
   ],
   "source": [
    "final_df.show(10)"
   ]
  },
  {
   "cell_type": "code",
   "execution_count": 73,
   "id": "a4b07f18-3cb6-4521-b529-a70e08ad02c4",
   "metadata": {},
   "outputs": [],
   "source": [
    "final_df.createOrReplaceTempView('final_data')"
   ]
  },
  {
   "cell_type": "code",
   "execution_count": 75,
   "id": "d0d243a4-b7f3-4ab6-9715-be151efd8222",
   "metadata": {},
   "outputs": [
    {
     "name": "stderr",
     "output_type": "stream",
     "text": [
      "[Stage 52:>                                                         (0 + 1) / 1]\r"
     ]
    },
    {
     "name": "stdout",
     "output_type": "stream",
     "text": [
      "+--------------------+-------------+\n",
      "|                zone|total_pickups|\n",
      "+--------------------+-------------+\n",
      "| Crown Heights North|       231279|\n",
      "|        East Village|       221244|\n",
      "|         JFK Airport|       188867|\n",
      "|      Bushwick South|       187929|\n",
      "|       East New York|       186780|\n",
      "|TriBeCa/Civic Center|       164344|\n",
      "|   LaGuardia Airport|       161596|\n",
      "|            Union Sq|       158937|\n",
      "|        West Village|       154698|\n",
      "|             Astoria|       152493|\n",
      "|     Lower East Side|       151020|\n",
      "|        East Chelsea|       147673|\n",
      "|Central Harlem North|       146402|\n",
      "|Williamsburg (Nor...|       143683|\n",
      "|          Park Slope|       143594|\n",
      "|  Stuyvesant Heights|       141427|\n",
      "|        Clinton East|       139611|\n",
      "|West Chelsea/Huds...|       139431|\n",
      "|             Bedford|       138428|\n",
      "|         Murray Hill|       137879|\n",
      "+--------------------+-------------+\n",
      "only showing top 20 rows\n",
      "\n"
     ]
    },
    {
     "name": "stderr",
     "output_type": "stream",
     "text": [
      "                                                                                \r"
     ]
    }
   ],
   "source": [
    "spark.sql('''\n",
    "select\n",
    "      zone\n",
    "      ,count(*) as total_pickups\n",
    "from final_data\n",
    "group by 1\n",
    "order by count(*) desc\n",
    "''').show()"
   ]
  }
 ],
 "metadata": {
  "kernelspec": {
   "display_name": "PySpark",
   "language": "python",
   "name": "pyspark"
  },
  "language_info": {
   "codemirror_mode": {
    "name": "ipython",
    "version": 3
   },
   "file_extension": ".py",
   "mimetype": "text/x-python",
   "name": "python",
   "nbconvert_exporter": "python",
   "pygments_lexer": "ipython3",
   "version": "3.10.8"
  }
 },
 "nbformat": 4,
 "nbformat_minor": 5
}
